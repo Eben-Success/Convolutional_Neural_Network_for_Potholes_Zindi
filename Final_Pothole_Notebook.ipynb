{
  "nbformat": 4,
  "nbformat_minor": 0,
  "metadata": {
    "colab": {
      "name": "Final Pothole.ipynb",
      "provenance": [],
      "collapsed_sections": [],
      "authorship_tag": "ABX9TyPpU3uxIskvZKCfT52IgQwD",
      "include_colab_link": true
    },
    "kernelspec": {
      "name": "python3",
      "display_name": "Python 3"
    },
    "language_info": {
      "name": "python"
    }
  },
  "cells": [
    {
      "cell_type": "markdown",
      "metadata": {
        "id": "view-in-github",
        "colab_type": "text"
      },
      "source": [
        "<a href=\"https://colab.research.google.com/github/Eben-Success/Convolutional_Neural_Network_for_Potholes_Zindi/blob/main/Final_Pothole_Notebook.ipynb\" target=\"_parent\"><img src=\"https://colab.research.google.com/assets/colab-badge.svg\" alt=\"Open In Colab\"/></a>"
      ]
    },
    {
      "cell_type": "markdown",
      "source": [
        "#Convoluational Neural Network Detection for Potholes Using TensorFlow with keras "
      ],
      "metadata": {
        "id": "3iYJ49znkJEi"
      }
    },
    {
      "cell_type": "markdown",
      "source": [
        "Import Libraries"
      ],
      "metadata": {
        "id": "P6UIWzUikaod"
      }
    },
    {
      "cell_type": "code",
      "execution_count": null,
      "metadata": {
        "id": "cr3qHaBmkIAv"
      },
      "outputs": [],
      "source": [
        "import numpy as np\n",
        "import os\n",
        "import csv\n",
        "from PIL import Image\n",
        "\n",
        "import keras\n",
        "import keras.preprocessing.image as img\n",
        "from keras.applications import ResNet50, VGG16\n",
        "from keras.layers import Dense, Conv2D, BatchNormalization, Activation, Flatten\n",
        "from keras.layers.pooling import GlobalMaxPool2D, GlobalAveragePooling2D\n",
        "from keras.models import Model\n",
        "from keras.optimizers import SGD, Adam\n",
        "from keras import backend as K\n",
        "\n",
        "import matplotlib\n",
        "import matplotlib.pyplot as plt\n",
        "%matplotlib inline"
      ]
    },
    {
      "cell_type": "markdown",
      "source": [
        "Crop images and save in a new folder"
      ],
      "metadata": {
        "id": "9VrmUz65kgWL"
      }
    },
    {
      "cell_type": "code",
      "source": [
        "# get all the filenames\n",
        "all_files = []\n",
        "for path, subdirs, files in os.walk('data'):\n",
        "    for name in files:\n",
        "        all_files.append(os.path.join(path, name))"
      ],
      "metadata": {
        "id": "-HUwozhBkoL0"
      },
      "execution_count": null,
      "outputs": []
    },
    {
      "cell_type": "code",
      "source": [
        "# crop the images and save in data_crop folder\n",
        "for f in all_files:\n",
        "    temp_img = Image.open(f)\n",
        "    temp_img = temp_img.crop((0, 600-435, 800, 600-435+185))\n",
        "    temp_img.save('data_crop' + f.split('data')[1])"
      ],
      "metadata": {
        "id": "TDAYrZr7ksjK"
      },
      "execution_count": null,
      "outputs": []
    },
    {
      "cell_type": "markdown",
      "source": [
        "# Create train and validation folders"
      ],
      "metadata": {
        "id": "2erOgYIvkxLj"
      }
    },
    {
      "cell_type": "markdown",
      "source": [
        "Here we take 500 random images from the train folder and move it to the valid folder. You can do this either with the images in data or data_crop. 500 images is probably not enough to obtain a reasonable estimate of the test accuracy."
      ],
      "metadata": {
        "id": "T7u9lO0qk4zx"
      }
    },
    {
      "cell_type": "code",
      "source": [
        "train_files = []\n",
        "for path, subdirs, files in os.walk('data/train/'):\n",
        "    for name in files:\n",
        "        train_files.append(os.path.join(path, name))"
      ],
      "metadata": {
        "id": "ct3VGZy3k0Iw"
      },
      "execution_count": null,
      "outputs": []
    },
    {
      "cell_type": "code",
      "source": [
        "np.random.shuffle(train_files)\n",
        "\n",
        "valid_files = train_files[:500]\n",
        "train_files = train_files[500:]\n",
        "\n",
        "for f in valid_files:\n",
        "    os.rename(f, 'data/valid/' + f.split('data/train/')[1])"
      ],
      "metadata": {
        "id": "xNIhp8fAlCrI"
      },
      "execution_count": null,
      "outputs": []
    },
    {
      "cell_type": "code",
      "source": [
        "%mv data/valid/positive/* data/train/positive/\n",
        "%mv data/valid/negative/* data/train/negative/"
      ],
      "metadata": {
        "id": "8w8O3Bv_lFZf"
      },
      "execution_count": null,
      "outputs": []
    },
    {
      "cell_type": "markdown",
      "source": [
        "# Setup data generators"
      ],
      "metadata": {
        "id": "HXSRqBrDlJyC"
      }
    },
    {
      "cell_type": "code",
      "source": [
        "def imagenet_mean(x):\n",
        "    x = x[..., ::-1]\n",
        "    x[..., 0] -= 103.939\n",
        "    x[..., 1] -= 116.779\n",
        "    x[..., 2] -= 123.68\n",
        "    return x"
      ],
      "metadata": {
        "id": "0C1L_EhglHjw"
      },
      "execution_count": null,
      "outputs": []
    },
    {
      "cell_type": "code",
      "source": [
        "train_gen = img.ImageDataGenerator(\n",
        "    horizontal_flip=True,\n",
        "    width_shift_range=0.05,\n",
        "    height_shift_range=0.1,\n",
        "    preprocessing_function=imagenet_mean\n",
        ")\n",
        "test_gen = img.ImageDataGenerator(\n",
        "    preprocessing_function=imagenet_mean\n",
        ")"
      ],
      "metadata": {
        "id": "4OVeeX3BlVx6"
      },
      "execution_count": null,
      "outputs": []
    },
    {
      "cell_type": "code",
      "source": [
        "batch_size=64\n",
        "img_size = (300,300)"
      ],
      "metadata": {
        "id": "sjXbDSgKlYAr"
      },
      "execution_count": null,
      "outputs": []
    },
    {
      "cell_type": "code",
      "source": [
        "train_batches = train_gen.flow_from_directory(\n",
        "    'data/train/',\n",
        "    batch_size=batch_size,\n",
        "    target_size = img_size,\n",
        "    class_mode='binary'\n",
        ")\n",
        "\n",
        "valid_batches = test_gen.flow_from_directory(\n",
        "    'data/valid/',\n",
        "    batch_size=batch_size,\n",
        "    target_size = img_size,\n",
        "    shuffle=False,\n",
        "    class_mode='binary'\n",
        ")\n",
        "\n",
        "test_batches = test_gen.flow_from_directory(\n",
        "    'data/test/',\n",
        "    batch_size=batch_size,\n",
        "    target_size = img_size,\n",
        "    shuffle=False,\n",
        "    class_mode='binary'\n",
        ")"
      ],
      "metadata": {
        "id": "UST36TKglacF"
      },
      "execution_count": null,
      "outputs": []
    },
    {
      "cell_type": "markdown",
      "source": [
        "Test the one of the generators output."
      ],
      "metadata": {
        "id": "CmMLa6yblcx5"
      }
    },
    {
      "cell_type": "code",
      "source": [
        "temp_train_batch = train_batches.next()\n",
        "print('X shape: ', temp_train_batch[0].shape)\n",
        "print('Y shape: ', temp_train_batch[1].shape)\n",
        "\n",
        "plt.imshow(temp_train_batch[0][0].astype('uint8'))"
      ],
      "metadata": {
        "id": "dtxvSsgFlfBQ"
      },
      "execution_count": null,
      "outputs": []
    },
    {
      "cell_type": "markdown",
      "source": [
        "# Start Modelling"
      ],
      "metadata": {
        "id": "2i2O8eVdlhKU"
      }
    },
    {
      "cell_type": "code",
      "source": [
        "# choose the convnet\n",
        "base_model = ResNet50(include_top=False, input_shape=img_size + (3,))\n",
        "#base_model = densenet121_model(img_rows=img_size[0], img_cols=img_size[1], color_type=3, num_classes=2)\n",
        "#base_model = resnet101_model(img_rows=img_size[0], img_cols=img_size[1], color_type=3, num_classes=2)"
      ],
      "metadata": {
        "id": "ZC8v1HIWlntG"
      },
      "execution_count": null,
      "outputs": []
    },
    {
      "cell_type": "code",
      "source": [
        "base_model.summary()"
      ],
      "metadata": {
        "id": "UyL4Ld5Bl0Kp"
      },
      "execution_count": null,
      "outputs": []
    },
    {
      "cell_type": "markdown",
      "source": [
        "Add new classification head. Can use max or average pooling."
      ],
      "metadata": {
        "id": "tzMJFcV3l35G"
      }
    },
    {
      "cell_type": "code",
      "source": [
        "ft_map = base_model.get_layer(index=-2).output\n",
        "\n",
        "x = Conv2D(128, (3,3), padding='same')(ft_map)\n",
        "x = BatchNormalization()(x)\n",
        "x = Activation('relu')(x)\n",
        "\n",
        "x = Conv2D(1, (3,3), activation='sigmoid', padding='same')(x)\n",
        "x = GlobalAveragePooling2D()(x)\n",
        "\n",
        "model = Model(base_model.input, x)"
      ],
      "metadata": {
        "id": "5-kfRyQwl4uf"
      },
      "execution_count": null,
      "outputs": []
    },
    {
      "cell_type": "code",
      "source": [
        "model.summary()"
      ],
      "metadata": {
        "id": "JrcYWxTOl7bU"
      },
      "execution_count": null,
      "outputs": []
    },
    {
      "cell_type": "markdown",
      "source": [
        "First, train only the new classification layer."
      ],
      "metadata": {
        "id": "epZ1If7Gl_4o"
      }
    },
    {
      "cell_type": "code",
      "source": [
        "# freeze all the base model layers\n",
        "for layer in base_model.layers:\n",
        "    layer.trainable = False"
      ],
      "metadata": {
        "id": "-eEOVB-rmAw6"
      },
      "execution_count": null,
      "outputs": []
    },
    {
      "cell_type": "code",
      "source": [
        "opt = Adam(0.001)#, momentum=0.9)\n",
        "model.compile(optimizer=opt, loss='binary_crossentropy', metrics=['accuracy'])"
      ],
      "metadata": {
        "id": "gseSAS9zmGM_"
      },
      "execution_count": null,
      "outputs": []
    },
    {
      "cell_type": "code",
      "source": [
        "model.fit_generator(train_batches, \n",
        "                    steps_per_epoch=np.ceil(train_batches.samples/batch_size), \n",
        "                    epochs=5, verbose=1, \n",
        "                    validation_data=valid_batches, \n",
        "                    validation_steps=np.ceil(valid_batches.samples/batch_size),\n",
        "                    )"
      ],
      "metadata": {
        "id": "h3zjdJ4AmJEa"
      },
      "execution_count": null,
      "outputs": []
    },
    {
      "cell_type": "code",
      "source": [
        "model.save_weights('models/rn50_cls.h5')"
      ],
      "metadata": {
        "id": "It2SKPYQmLXg"
      },
      "execution_count": null,
      "outputs": []
    },
    {
      "cell_type": "code",
      "source": [
        "K.set_value(model.optimizer.lr, 0.00001)"
      ],
      "metadata": {
        "id": "GD2pqG6mmNW6"
      },
      "execution_count": null,
      "outputs": []
    },
    {
      "cell_type": "code",
      "source": [
        "model.fit_generator(train_batches, \n",
        "                    steps_per_epoch=np.ceil(train_batches.samples/batch_size), \n",
        "                    epochs=5, verbose=1, \n",
        "                    validation_data=valid_batches, \n",
        "                    validation_steps=np.ceil(valid_batches.samples/batch_size),\n",
        "                    )"
      ],
      "metadata": {
        "id": "beLB0aOXmPhm"
      },
      "execution_count": null,
      "outputs": []
    },
    {
      "cell_type": "code",
      "source": [
        "model.save_weights('models/rn50_cls.h5')\n"
      ],
      "metadata": {
        "id": "ifiJlv74mSJp"
      },
      "execution_count": null,
      "outputs": []
    },
    {
      "cell_type": "code",
      "source": [
        "for i,layer in enumerate(model.layers):\n",
        "    print(i, layer.name)"
      ],
      "metadata": {
        "id": "f-k1dwCjmULi"
      },
      "execution_count": null,
      "outputs": []
    },
    {
      "cell_type": "markdown",
      "source": [
        "Fine-tune deeper layers - either conv5 block or conv5 + conv4"
      ],
      "metadata": {
        "id": "LacX5eNQmW5N"
      }
    },
    {
      "cell_type": "code",
      "source": [
        "for layer in model.layers[:141]:\n",
        "    layer.trainable = False\n",
        "    \n",
        "for layer in model.layers[141:]:\n",
        "    layer.trainable = True"
      ],
      "metadata": {
        "id": "QlIimpbimZrW"
      },
      "execution_count": null,
      "outputs": []
    },
    {
      "cell_type": "code",
      "source": [
        "opt = Adam(0.0001)\n",
        "model.compile(optimizer=opt, loss='binary_crossentropy', metrics=['accuracy'])"
      ],
      "metadata": {
        "id": "XHQC3JPsmdm5"
      },
      "execution_count": null,
      "outputs": []
    },
    {
      "cell_type": "code",
      "source": [
        "model.fit_generator(train_batches, \n",
        "                    steps_per_epoch=np.ceil(train_batches.samples/batch_size), \n",
        "                    epochs=5, verbose=1, \n",
        "                    validation_data=valid_batches, \n",
        "                    validation_steps=np.ceil(valid_batches.samples/batch_size),\n",
        "                    )"
      ],
      "metadata": {
        "id": "SENuyW0jmfoB"
      },
      "execution_count": null,
      "outputs": []
    },
    {
      "cell_type": "code",
      "source": [
        "model.save_weights('models/rn50_block5.h5')"
      ],
      "metadata": {
        "id": "OddPDyKWmh3I"
      },
      "execution_count": null,
      "outputs": []
    },
    {
      "cell_type": "code",
      "source": [
        "K.set_value(model.optimizer.lr, 0.00001)"
      ],
      "metadata": {
        "id": "7UQ-9i-Omjft"
      },
      "execution_count": null,
      "outputs": []
    },
    {
      "cell_type": "code",
      "source": [
        "model.fit_generator(train_batches, \n",
        "                    steps_per_epoch=np.ceil(train_batches.samples/batch_size), \n",
        "                    epochs=3, verbose=1, \n",
        "                    validation_data=valid_batches, \n",
        "                    validation_steps=np.ceil(valid_batches.samples/batch_size),\n",
        "                    )"
      ],
      "metadata": {
        "id": "GXKWVkOJmmID"
      },
      "execution_count": null,
      "outputs": []
    },
    {
      "cell_type": "code",
      "source": [
        "model.save_weights('models/rn50_block5.h5')"
      ],
      "metadata": {
        "id": "KbqipgGDmoCi"
      },
      "execution_count": null,
      "outputs": []
    },
    {
      "cell_type": "code",
      "source": [
        "K.set_value(model.optimizer.lr, 0.000001)"
      ],
      "metadata": {
        "id": "JvxYoN9jmo7K"
      },
      "execution_count": null,
      "outputs": []
    },
    {
      "cell_type": "code",
      "source": [
        "model.fit_generator(train_batches, \n",
        "                    steps_per_epoch=np.ceil(train_batches.samples/batch_size), \n",
        "                    epochs=2, verbose=1, \n",
        "                    validation_data=valid_batches, \n",
        "                    validation_steps=np.ceil(valid_batches.samples/batch_size),\n",
        "                    )"
      ],
      "metadata": {
        "id": "ID1Cbjqpmq_C"
      },
      "execution_count": null,
      "outputs": []
    },
    {
      "cell_type": "markdown",
      "source": [
        "# Evaluate on hold-out sets"
      ],
      "metadata": {
        "id": "EyHOk0ZEm4sK"
      }
    },
    {
      "cell_type": "markdown",
      "source": [
        "Validation"
      ],
      "metadata": {
        "id": "4z5KcgW-m6k6"
      }
    },
    {
      "cell_type": "code",
      "source": [
        "# load data in memory\n",
        "valid_batches.reset()\n",
        "x_valid = np.vstack([valid_batches.next()[0] for x in range(int(np.ceil(valid_batches.samples/batch_size)))])"
      ],
      "metadata": {
        "id": "obGLtQBcm9Nw"
      },
      "execution_count": null,
      "outputs": []
    },
    {
      "cell_type": "code",
      "source": [
        "valid_batches.reset()\n",
        "y_valid = np.concatenate([valid_batches.next()[1] for x in range(int(np.ceil(valid_batches.samples/batch_size)))])"
      ],
      "metadata": {
        "id": "RPPG6K6W0Xrj"
      },
      "execution_count": null,
      "outputs": []
    },
    {
      "cell_type": "markdown",
      "source": [
        "Little bit of TTA, predict on both horisontal orientations."
      ],
      "metadata": {
        "id": "1mrS7s-10jNZ"
      }
    },
    {
      "cell_type": "code",
      "source": [
        "p_valid = np.zeros_like(y_valid)\n",
        "for flip in [False, True]:\n",
        "    temp_x = x_valid\n",
        "    if flip:\n",
        "        temp_x = img.flip_axis(temp_x, axis=2)\n",
        "    p_valid += 0.5 * np.reshape(model.predict(temp_x, verbose=1), y_valid.shape)"
      ],
      "metadata": {
        "id": "-ObIuuzN0dIM"
      },
      "execution_count": null,
      "outputs": []
    },
    {
      "cell_type": "markdown",
      "source": [
        "# Accuracy "
      ],
      "metadata": {
        "id": "KYIBD_2l0ni5"
      }
    },
    {
      "cell_type": "code",
      "source": [
        "np.mean((p_valid > 0.5) == y_valid)"
      ],
      "metadata": {
        "id": "w6HgzoY30qaz"
      },
      "execution_count": null,
      "outputs": []
    },
    {
      "cell_type": "markdown",
      "source": [
        "Test"
      ],
      "metadata": {
        "id": "Gk2mx_kB0xqN"
      }
    },
    {
      "cell_type": "code",
      "source": [
        "# load data in memory\n",
        "test_batches.reset()\n",
        "x_test = np.vstack([test_batches.next()[0] for x in range(int(np.ceil(test_batches.samples/batch_size)))])"
      ],
      "metadata": {
        "id": "QbFerzJC00CD"
      },
      "execution_count": null,
      "outputs": []
    },
    {
      "cell_type": "code",
      "source": [
        "test_batches.reset()\n",
        "y_test = np.concatenate([test_batches.next()[1] for x in range(int(np.ceil(test_batches.samples/batch_size)))])"
      ],
      "metadata": {
        "id": "Hk955eXH1Hzz"
      },
      "execution_count": null,
      "outputs": []
    },
    {
      "cell_type": "markdown",
      "source": [
        "Little bit of TTA, predict on both horisontal orientations."
      ],
      "metadata": {
        "id": "42HunVIg1J1Z"
      }
    },
    {
      "cell_type": "code",
      "source": [
        "p_test = np.zeros_like(y_test)\n",
        "for flip in [False, True]:\n",
        "    temp_x = x_test\n",
        "    if flip:\n",
        "        temp_x = img.flip_axis(temp_x, axis=2)\n",
        "    p_test += 0.5 * np.reshape(model.predict(temp_x, verbose=1), y_test.shape)"
      ],
      "metadata": {
        "id": "OFx99nd61NNA"
      },
      "execution_count": null,
      "outputs": []
    },
    {
      "cell_type": "markdown",
      "source": [
        "Accuracy "
      ],
      "metadata": {
        "id": "mvzZ1EvN1QGT"
      }
    },
    {
      "cell_type": "code",
      "source": [
        "from sklearn.metrics import confusion_matrix"
      ],
      "metadata": {
        "id": "FZcjwX1Y1Ro_"
      },
      "execution_count": null,
      "outputs": []
    },
    {
      "cell_type": "code",
      "source": [
        "np.mean((p_test > 0.5) == y_test)"
      ],
      "metadata": {
        "id": "jrLc6yOy1UFN"
      },
      "execution_count": null,
      "outputs": []
    },
    {
      "cell_type": "markdown",
      "source": [
        "# Pothole Localization"
      ],
      "metadata": {
        "id": "9IXFtS3E1eEN"
      }
    },
    {
      "cell_type": "code",
      "source": [
        "cam_extract = Model(base_model.input, model.get_layer(index=-3).output)"
      ],
      "metadata": {
        "id": "kCIfLJ0S1g6T"
      },
      "execution_count": null,
      "outputs": []
    },
    {
      "cell_type": "code",
      "source": [
        "cam_valid = cam_extract.predict(x_valid, verbose=1)"
      ],
      "metadata": {
        "id": "_FlpKIjM1jIE"
      },
      "execution_count": null,
      "outputs": []
    },
    {
      "cell_type": "code",
      "source": [
        "valid_ind = np.random.randint(low=0,high=500)\n",
        "valid_file = valid_batches.filenames[valid_ind]\n",
        "print(valid_file)"
      ],
      "metadata": {
        "id": "0fRud5ZQ1mJa"
      },
      "execution_count": null,
      "outputs": []
    },
    {
      "cell_type": "code",
      "source": [
        "valid_cam = cam_extract.predict(np.expand_dims(x_valid[valid_ind], 0))\n",
        "np.max(valid_cam)"
      ],
      "metadata": {
        "id": "O5qKpaq61nX2"
      },
      "execution_count": null,
      "outputs": []
    },
    {
      "cell_type": "code",
      "source": [
        "overlay = img.array_to_img(valid_cam[0]).resize((800,600), Image.BILINEAR).convert('RGB')\n",
        "bg = img.load_img('data/valid/' + valid_file)#.resize((300,300))"
      ],
      "metadata": {
        "id": "rUZFjURO1rNm"
      },
      "execution_count": null,
      "outputs": []
    },
    {
      "cell_type": "code",
      "source": [
        "Image.blend(alpha=0.5, im1=bg, im2=overlay)"
      ],
      "metadata": {
        "id": "kxUjdp_v1s4E"
      },
      "execution_count": null,
      "outputs": []
    },
    {
      "cell_type": "code",
      "source": [
        "test_ind = np.random.randint(high=1500,low=0)\n",
        "test_file = test_batches.filenames[test_ind]\n",
        "print(test_file)"
      ],
      "metadata": {
        "id": "W0jqVBm81tru"
      },
      "execution_count": null,
      "outputs": []
    },
    {
      "cell_type": "code",
      "source": [
        "test_cam = cam_extract.predict(np.expand_dims(x_test[test_ind], 0))\n",
        "np.max(test_cam)"
      ],
      "metadata": {
        "id": "0jr0gu0Q1ySU"
      },
      "execution_count": null,
      "outputs": []
    },
    {
      "cell_type": "code",
      "source": [
        "overlay = img.array_to_img(test_cam[0]).resize((800,600), Image.BILINEAR).convert('RGB')\n",
        "bg = img.load_img('data/test/' + test_file)#.resize((300,300))\n"
      ],
      "metadata": {
        "id": "xqA5Qsdi10Kv"
      },
      "execution_count": null,
      "outputs": []
    },
    {
      "cell_type": "code",
      "source": [
        "Image.blend(alpha=0.5, im1=bg, im2=overlay)"
      ],
      "metadata": {
        "id": "gEbygQwZ13E2"
      },
      "execution_count": null,
      "outputs": []
    }
  ]
}