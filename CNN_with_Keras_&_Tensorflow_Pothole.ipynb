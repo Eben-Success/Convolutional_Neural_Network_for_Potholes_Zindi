{
  "nbformat": 4,
  "nbformat_minor": 0,
  "metadata": {
    "colab": {
      "name": "CNN_with_Keras_&_Tensorflow_Pothole",
      "provenance": [],
      "authorship_tag": "ABX9TyM2uh0hC4B77oFKLUpqqmvn",
      "include_colab_link": true
    },
    "kernelspec": {
      "name": "python3",
      "display_name": "Python 3"
    },
    "language_info": {
      "name": "python"
    }
  },
  "cells": [
    {
      "cell_type": "markdown",
      "metadata": {
        "id": "view-in-github",
        "colab_type": "text"
      },
      "source": [
        "<a href=\"https://colab.research.google.com/github/Eben-Success/Convolutional_Neural_Network_for_Potholes_Zindi/blob/main/CNN_with_Keras_%26_Tensorflow_Pothole.ipynb\" target=\"_parent\"><img src=\"https://colab.research.google.com/assets/colab-badge.svg\" alt=\"Open In Colab\"/></a>"
      ]
    },
    {
      "cell_type": "markdown",
      "source": [
        "#Convolutional Neural Network for Pothole Detection Using Keras & Tensorflow"
      ],
      "metadata": {
        "id": "1c-Dg1dZezSy"
      }
    },
    {
      "cell_type": "markdown",
      "source": [
        "#Using Keras"
      ],
      "metadata": {
        "id": "dJJnnwHThdPV"
      }
    },
    {
      "cell_type": "code",
      "source": [
        "from keras.layers import Input, Lambda, Dense, Flatten\n",
        "from keras.models import Model\n",
        "from keras.applications.vgg16 import VGG16\n",
        "from keras.preprocessing import image\n",
        "from keras.preprocessing.image import ImageDataGenerator\n",
        "\n",
        "from sklearn.metrics import confusion_matrix\n",
        "import numpy as np\n",
        "import matplotlib.pyplot as plt\n",
        "\n",
        "from glob import glob"
      ],
      "metadata": {
        "id": "52OXupABe8nf"
      },
      "execution_count": 6,
      "outputs": []
    },
    {
      "cell_type": "markdown",
      "source": [
        "#Using Tensorflow"
      ],
      "metadata": {
        "id": "abwUuAknhZ4Y"
      }
    },
    {
      "cell_type": "code",
      "source": [
        "from tensorflow import keras\n",
        "\n",
        "#Import keras model and hidden layers for CNN\n",
        "from keras.models import Sequential\n",
        "\n",
        "from keras.layers import Dense, Flatten, Dropout\n",
        "from keras.layers.convolutional import Conv2D, MaxPooling2D\n",
        "#Image handling Libraries \n",
        "import numpy as np\n",
        "import matplotlib.pyplot as plt\n",
        "import cv2\n",
        "import pandas as pd\n",
        "\n",
        "#Sklearn Libraries\n",
        "from sklearn.model_selection import train_test_split\n",
        "from  sklearn.metrics import confusion_matrix\n",
        "\n",
        "import warnings\n",
        "warnings.filterwarnings('always')\n",
        "warnings.filterwarnings('ignore')\n",
        "\n",
        "#Data Visualization and Manipulations\n",
        "import matplotlib.pyplot as plt\n",
        "from matplotlib import style\n",
        "\n",
        "# Initialize a list of paths for images\n",
        "imagepaths = []\n",
        "\n",
        "import os\n",
        "for dirname, _, filenames in os.walk():\n",
        "  for filename in filenames:\n",
        "    path = os.path.join(dirname, filename)\n",
        "    imagepaths.append(path)\n",
        "\n",
        "print(len(imagepaths))\n",
        "\n"
      ],
      "metadata": {
        "colab": {
          "base_uri": "https://localhost:8080/",
          "height": 235
        },
        "id": "fxl78NR3hYNZ",
        "outputId": "abf03d77-e93e-47bf-8d16-38a8e7274b0f"
      },
      "execution_count": 11,
      "outputs": [
        {
          "output_type": "error",
          "ename": "TypeError",
          "evalue": "ignored",
          "traceback": [
            "\u001b[0;31m---------------------------------------------------------------------------\u001b[0m",
            "\u001b[0;31mTypeError\u001b[0m                                 Traceback (most recent call last)",
            "\u001b[0;32m<ipython-input-11-3f3e97d1208f>\u001b[0m in \u001b[0;36m<module>\u001b[0;34m()\u001b[0m\n\u001b[1;32m     28\u001b[0m \u001b[0;34m\u001b[0m\u001b[0m\n\u001b[1;32m     29\u001b[0m \u001b[0;32mimport\u001b[0m \u001b[0mos\u001b[0m\u001b[0;34m\u001b[0m\u001b[0;34m\u001b[0m\u001b[0m\n\u001b[0;32m---> 30\u001b[0;31m \u001b[0;32mfor\u001b[0m \u001b[0mdirname\u001b[0m\u001b[0;34m,\u001b[0m \u001b[0m_\u001b[0m\u001b[0;34m,\u001b[0m \u001b[0mfilenames\u001b[0m \u001b[0;32min\u001b[0m \u001b[0mos\u001b[0m\u001b[0;34m.\u001b[0m\u001b[0mwalk\u001b[0m\u001b[0;34m(\u001b[0m\u001b[0;34m)\u001b[0m\u001b[0;34m:\u001b[0m\u001b[0;34m\u001b[0m\u001b[0;34m\u001b[0m\u001b[0m\n\u001b[0m\u001b[1;32m     31\u001b[0m   \u001b[0;32mfor\u001b[0m \u001b[0mfilename\u001b[0m \u001b[0;32min\u001b[0m \u001b[0mfilenames\u001b[0m\u001b[0;34m:\u001b[0m\u001b[0;34m\u001b[0m\u001b[0;34m\u001b[0m\u001b[0m\n\u001b[1;32m     32\u001b[0m     \u001b[0mpath\u001b[0m \u001b[0;34m=\u001b[0m \u001b[0mos\u001b[0m\u001b[0;34m.\u001b[0m\u001b[0mpath\u001b[0m\u001b[0;34m.\u001b[0m\u001b[0mjoin\u001b[0m\u001b[0;34m(\u001b[0m\u001b[0mdirname\u001b[0m\u001b[0;34m,\u001b[0m \u001b[0mfilename\u001b[0m\u001b[0;34m)\u001b[0m\u001b[0;34m\u001b[0m\u001b[0;34m\u001b[0m\u001b[0m\n",
            "\u001b[0;31mTypeError\u001b[0m: walk() missing 1 required positional argument: 'top'"
          ]
        }
      ]
    },
    {
      "cell_type": "markdown",
      "source": [
        "#Define Image Sizes"
      ],
      "metadata": {
        "id": "2SAvKKiOk32r"
      }
    },
    {
      "cell_type": "code",
      "source": [
        "IMG_SIZE=128\n",
        "X=[]\n",
        "y=[]\n",
        "for image in imagepaths:\n",
        "  try:\n",
        "    img = cv2.imrread(image, cv2.IMREAD_COLOR)\n",
        "    img = cv2.resize(img, (IMG_SIZE, IMG_SIZE))\n",
        "    X.append(np.array(img))\n",
        "\n",
        "    if (image.startswith('')):\n",
        "      y.append('NORMAL')\n",
        "    else:\n",
        "      y.append('POTHOLES')\n",
        "  except:\n",
        "    pass\n"
      ],
      "metadata": {
        "id": "ryVo5Tzzk6V8"
      },
      "execution_count": null,
      "outputs": []
    },
    {
      "cell_type": "code",
      "source": [
        "import random as rn\n",
        "fig, ax=plt.subplots(2,5)\n",
        "plt.subplots_adjust(bottom=0.3, top=0.7, hspace=0)\n",
        "fig.set_size_inches(15,15)\n",
        "\n",
        "for i in range(2):\n",
        "  for j in range(5):\n",
        "    l=rn.randint(0, len(y))\n",
        "    ax[i,j].imshow(X[1][:,:,::-1])\n",
        "    ax[i,j].set_title(y[1])\n",
        "    ax[i,j].set_apect('equal')"
      ],
      "metadata": {
        "id": "ba-jeUgumYWJ"
      },
      "execution_count": null,
      "outputs": []
    },
    {
      "cell_type": "code",
      "source": [
        "from sklearn.preprocessing import LabelEncoder\n",
        "from keras.utils import to_categorical\n",
        "from sklearn.model_selection import train_test_split\n",
        "\n",
        "le = LabelEncoder()\n",
        "Y=le.fit_transform(y)\n",
        "Y=to_categorical(Y,2)\n",
        "print(Y)\n",
        "X=np.array(X)\n",
        "\n",
        "x_train, x_test, y_train, y_test=train_test_split(X,Y, test_size=0.25, random_state=5)\n"
      ],
      "metadata": {
        "id": "0qDGVB5PpWIv"
      },
      "execution_count": null,
      "outputs": []
    },
    {
      "cell_type": "markdown",
      "source": [
        "#Create a CNN Model"
      ],
      "metadata": {
        "id": "XDcm5mg-qIij"
      }
    },
    {
      "cell_type": "code",
      "source": [
        "model = Sequential()\n",
        "\n",
        "model.add(Conv2D(32, (5,5), activation='relu', input_shape=(128,128,3)))\n",
        "model.add(MaxPooling2D((2,2)))\n",
        "\n",
        "model.add(Conv2D(64, (3,3), activation='relu'))\n",
        "model.add(MaxPooling2D((2,2)))\n",
        "\n",
        "model.add(Conv2D(128, (3,3), activation='relu'))\n",
        "model.add(MaxPooling2D((2,2)))\n",
        "\n",
        "model.add(Conv2D(128, (3,3), activation='relu'))\n",
        "model.add(MaxPooling2D((2,2)))\n",
        "\n",
        "model.add(Conv2D(128, (3,3), activation='relu'))\n",
        "model.add(MaxPooling2D((2,2)))\n",
        "\n",
        "model.add(Flatten())\n",
        "\n",
        "model.add(Dropout(0.4))\n",
        "\n",
        "model.add(Dense(128, activation='relu'))\n",
        "\n",
        "model.add(Dense(2, activation='softmax'))"
      ],
      "metadata": {
        "id": "pPk56TRUqBev"
      },
      "execution_count": null,
      "outputs": []
    },
    {
      "cell_type": "markdown",
      "source": [
        "#Model Configurations for Training Purpose"
      ],
      "metadata": {
        "id": "fix4HupMr_U5"
      }
    },
    {
      "cell_type": "code",
      "source": [
        "model.compile(optimizer='adam', loss='categorical_crossentropy', metrics=['accuracy'])"
      ],
      "metadata": {
        "id": "TVJW1qWdr92w"
      },
      "execution_count": null,
      "outputs": []
    },
    {
      "cell_type": "code",
      "source": [
        "print(model.summary())"
      ],
      "metadata": {
        "id": "bJZn_Dw0sST-"
      },
      "execution_count": null,
      "outputs": []
    },
    {
      "cell_type": "code",
      "source": [
        "model.fit(x_train, y_train, epochs=30, batch_size=12, verbose=2,\n",
        "          validation_data=(x_test, y_test))"
      ],
      "metadata": {
        "id": "esEJq7nlsXUp"
      },
      "execution_count": null,
      "outputs": []
    },
    {
      "cell_type": "code",
      "source": [
        "loss, accuracy = model.evaluate(x_test, y_test)\n",
        "\n",
        "#Prediction accuracy in decimals\n",
        "print('Test accuracy: {:2.2f}%'.format(accuracy))"
      ],
      "metadata": {
        "id": "Ws37xY13sna9"
      },
      "execution_count": null,
      "outputs": []
    },
    {
      "cell_type": "markdown",
      "source": [
        "#Making Predictions"
      ],
      "metadata": {
        "id": "PSL1uPQPs7op"
      }
    },
    {
      "cell_type": "code",
      "source": [
        "prediction = model.predict(x_test)"
      ],
      "metadata": {
        "id": "fMWZej4js9ay"
      },
      "execution_count": null,
      "outputs": []
    },
    {
      "cell_type": "markdown",
      "source": [
        "#Transform Predictions into 1D Array"
      ],
      "metadata": {
        "id": "6kvWmi7ttFnK"
      }
    },
    {
      "cell_type": "code",
      "source": [
        "y_pred = np.argmax(prediction, axis=1)"
      ],
      "metadata": {
        "id": "zOGQVlkItBi2"
      },
      "execution_count": null,
      "outputs": []
    },
    {
      "cell_type": "code",
      "source": [
        "y_test1=y_test.astype(int)\n",
        "y_test2=[]\n",
        "for i in y_test1:\n",
        "  a=1\n",
        "  #print(i[0], [1])\n",
        "  if (i[0]==1 and i[1]==0):\n",
        "    a=0\n",
        "  y_test2.append(a)"
      ],
      "metadata": {
        "id": "S8SfSpgNuWNE"
      },
      "execution_count": null,
      "outputs": []
    },
    {
      "cell_type": "markdown",
      "source": [
        "#Creating a Confusion Matrix for Evaluation"
      ],
      "metadata": {
        "id": "CaFWVmQoussk"
      }
    },
    {
      "cell_type": "code",
      "source": [
        "pd.DataFrame(confusion_matrix(y_test2, y_pred),\n",
        "             columns=[\"Predicted NORMAL\", \"PREDICTED POTHOLES\"],\n",
        "             index=['Actual NORMAL', \"Actual POTHOLES\"])"
      ],
      "metadata": {
        "id": "Aec0GDcDuwoT"
      },
      "execution_count": null,
      "outputs": []
    }
  ]
}