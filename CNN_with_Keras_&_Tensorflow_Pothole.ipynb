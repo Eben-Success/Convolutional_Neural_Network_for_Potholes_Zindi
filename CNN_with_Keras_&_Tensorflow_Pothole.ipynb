{
  "nbformat": 4,
  "nbformat_minor": 0,
  "metadata": {
    "colab": {
      "name": "CNN_with_Keras_&_Tensorflow_Pothole",
      "provenance": [],
      "authorship_tag": "ABX9TyOmJmGhlLZKFAk4SqtC4EZz",
      "include_colab_link": true
    },
    "kernelspec": {
      "name": "python3",
      "display_name": "Python 3"
    },
    "language_info": {
      "name": "python"
    }
  },
  "cells": [
    {
      "cell_type": "markdown",
      "metadata": {
        "id": "view-in-github",
        "colab_type": "text"
      },
      "source": [
        "<a href=\"https://colab.research.google.com/github/Eben-Success/Convolutional_Neural_Network_for_Potholes_Zindi/blob/main/CNN_with_Keras_%26_Tensorflow_Pothole.ipynb\" target=\"_parent\"><img src=\"https://colab.research.google.com/assets/colab-badge.svg\" alt=\"Open In Colab\"/></a>"
      ]
    },
    {
      "cell_type": "code",
      "execution_count": 3,
      "metadata": {
        "colab": {
          "base_uri": "https://localhost:8080/"
        },
        "id": "z833X8SMcbTl",
        "outputId": "4b886161-a2b2-4ec6-e7fa-49450380e6ee"
      },
      "outputs": [
        {
          "output_type": "stream",
          "name": "stdout",
          "text": [
            "Hello World\n"
          ]
        }
      ],
      "source": [
        "print(\"Hello World\")"
      ]
    },
    {
      "cell_type": "code",
      "source": [
        "print(\"Hello world\")"
      ],
      "metadata": {
        "colab": {
          "base_uri": "https://localhost:8080/"
        },
        "id": "d3J_mq7ycflD",
        "outputId": "b68cdb43-3fc5-48fd-ffa1-fbf33d940f4d"
      },
      "execution_count": 5,
      "outputs": [
        {
          "output_type": "stream",
          "name": "stdout",
          "text": [
            "Hello world\n"
          ]
        }
      ]
    },
    {
      "cell_type": "code",
      "source": [
        ""
      ],
      "metadata": {
        "id": "PKJ0hHx3dRZS"
      },
      "execution_count": null,
      "outputs": []
    }
  ]
}